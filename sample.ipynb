{
 "cells": [
  {
   "cell_type": "code",
   "execution_count": null,
   "metadata": {},
   "outputs": [],
   "source": [
    "import tensorflow as tf\n",
    "import os"
   ]
  },
  {
   "cell_type": "code",
   "execution_count": null,
   "metadata": {},
   "outputs": [],
   "source": [
    "# 定义计算图结构 x*y+b\n",
    "x = tf.placeholder(tf.int32, name='x_input')\n",
    "y = tf.placeholder(tf.int32, name='y_input')\n",
    "b = tf.Variable(1, name='b')\n",
    "xy = tf.multiply(x, y)\n",
    "output = tf.add(xy, b, name='output')"
   ]
  },
  {
   "cell_type": "code",
   "execution_count": null,
   "metadata": {},
   "outputs": [],
   "source": [
    "# 输出计算图结果\n",
    "sess = tf.Session()\n",
    "sess.run(tf.global_variables_initializer())\n",
    "y_pred = sess.run(output, {x: 10, y: 3})\n",
    "print(y_pred) # 输出31"
   ]
  },
  {
   "cell_type": "code",
   "execution_count": null,
   "metadata": {},
   "outputs": [],
   "source": [
    "def save_pb_model(sess, save_path, output_nodes):\n",
    "    # 将变量转换为常量，第1个参数是会话，第2个参数计算图的graph_def对象；第3个参数是结果输出节点的名称\n",
    "    output_graph_def = tf.graph_util.convert_variables_to_constants(sess, tf.get_default_graph().as_graph_def(), output_nodes)\n",
    "    # 检查是否存在路径\n",
    "    path = os.path.abspath(save_path)  # 获取绝对路径\n",
    "    if os.path.exists(path) is False:\n",
    "        os.makedirs(path)\n",
    "        print(\"成功创建模型保存新路径：{}\".format(path))\n",
    "    # 将计算图写入序列化的pb文件，第1个参数是保存路径及其文件名\n",
    "    with tf.gfile.FastGFile(save_path + \"model.pb\", mode=\"wb\") as f:\n",
    "        f.write(output_graph_def.SerializeToString())\n",
    "        print(\"成功使用PB模式保存模型到路径：{}\".format(path))"
   ]
  },
  {
   "cell_type": "code",
   "execution_count": null,
   "metadata": {},
   "outputs": [],
   "source": [
    "save_pb_model(sess,'./models/',['output'])"
   ]
  }
 ],
 "metadata": {
  "kernelspec": {
   "display_name": "Python 3",
   "language": "python",
   "name": "python3"
  },
  "language_info": {
   "name": "python",
   "version": "3.8.6"
  },
  "orig_nbformat": 4
 },
 "nbformat": 4,
 "nbformat_minor": 2
}
